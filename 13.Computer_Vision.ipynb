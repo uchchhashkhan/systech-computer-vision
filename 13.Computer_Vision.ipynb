{
 "cells": [
  {
   "cell_type": "markdown",
   "id": "b4123b64",
   "metadata": {},
   "source": [
    "# Computer Vision"
   ]
  },
  {
   "cell_type": "markdown",
   "id": "910729d1",
   "metadata": {},
   "source": [
    "### Computer vision and it's application"
   ]
  },
  {
   "cell_type": "markdown",
   "id": "ab47f26b",
   "metadata": {},
   "source": [
    "<img src=\"../Lecture_Image_Files/lec_15/cv.png\" width=\"500\"/>\n",
    "\n",
    "Computer vision is a field of artificial intelligence (AI) and computer science that focuses on enabling computers to gain a high-level understanding of visual information from images or videos. It involves developing algorithms and techniques to extract meaningful information from visual data and perform tasks that mimic human vision capabilities.\n",
    "\n",
    "The applications of computer vision are vast and diverse, spanning various industries and domains. Here are some common application areas:\n",
    "\n",
    "- **Object Recognition and Classification**: Computer vision enables machines to identify and classify objects within images or videos. This has applications in autonomous vehicles, surveillance systems, quality control in manufacturing, and image search engines.\n",
    "\n",
    "<img src=\"../Lecture_Image_Files/lec_15/1.jpg\" width=\"500\"/>\n",
    "\n",
    "- **Image and Video Analysis**: Computer vision techniques can be used to analyze images and videos to extract useful information. This includes tasks such as image segmentation, tracking objects across frames, motion analysis, and scene understanding. Applications include video surveillance, augmented reality, video editing, and content-based image retrieval.\n",
    "\n",
    "- **Face Recognition**: Computer vision algorithms can identify and verify individuals by analyzing facial features. This is used in various applications, including biometric authentication systems, surveillance systems, and personalized user experiences in smart devices.\n",
    "\n",
    "<img src=\"../Lecture_Image_Files/lec_15/face_rec.png\" width=\"500\"/>\n",
    "\n",
    "- **Object Detection and Tracking**: Computer vision enables the detection and tracking of specific objects or regions of interest within images or videos. This is employed in autonomous driving systems, robotics, video analysis for sports or entertainment, and security systems.\n",
    "\n",
    "<img src=\"../Lecture_Image_Files/lec_15/vehicle_count.jpg\" width=\"500\"/>\n",
    "\n",
    "- **Medical Imaging and Diagnosis**: Computer vision plays a crucial role in medical imaging, aiding in the analysis and interpretation of medical images such as X-rays, MRIs, and CT scans. It enables tasks such as tumor detection, image segmentation, and disease diagnosis.\n",
    "\n",
    "<img src=\"../Lecture_Image_Files/lec_15/brain_tumor.png\" width=\"500\"/>\n",
    "\n",
    "- **Autonomous Navigation and Robotics**: Computer vision is essential for enabling robots and autonomous systems to perceive and understand their environment. It helps in tasks like localization, mapping, obstacle detection and avoidance, and path planning. Applications include autonomous drones, self-driving cars, and industrial robots.\n",
    "\n",
    "<img src=\"../Lecture_Image_Files/lec_15/tesla_navigation.jpg\" width=\"450\"/>\n",
    "\n",
    "- **Visual Inspection and Quality Control**: Computer vision is employed in manufacturing industries to inspect and ensure the quality of products. It can detect defects, measure dimensions, and verify product integrity, improving efficiency and reducing errors.\n",
    "\n",
    "<img src=\"../Lecture_Image_Files/lec_15/quality_control.jpg\" width=\"450\"/>\n",
    "\n",
    "- **Augmented Reality (AR) and Virtual Reality (VR)**: Computer vision techniques are used to enable AR and VR applications, where virtual objects are superimposed on the real world or users are immersed in virtual environments. This includes face and gesture tracking, Gaze Tracking 3D reconstruction, and real-time object interaction.\n",
    "\n",
    "<img src=\"../Lecture_Image_Files/lec_15/ar_vr.jpg\" width=\"500\"/>\n",
    "\n",
    "These are just a few examples of the many applications of computer vision. The field continues to advance, and with the increasing availability of large-scale datasets and deep learning techniques, computer vision systems are becoming more accurate and capable of solving complex visual tasks."
   ]
  },
  {
   "cell_type": "markdown",
   "id": "87f798e0",
   "metadata": {},
   "source": [
    "# Image classification"
   ]
  },
  {
   "cell_type": "markdown",
   "id": "8a472e0a",
   "metadata": {},
   "source": [
    "In this notebook, we will cover the essential steps involved in training a machine learning model. The objective of this class is to provide students with a comprehensive overview of the model training procedure. While we won't go into great detail during this session, we will highlight the functionality of each building block.\n",
    "\n",
    "Our approach is designed to lay a solid foundation for students to understand the entire model training process. Subsequent classes will dive deeper into each component, allowing students to gain a more in-depth understanding of their workings.\n",
    "\n",
    "By following this structure, students will develop a robust understanding of how the various building blocks fit together to achieve successful model training. This approach ensures that they have a contextual understanding of the process before exploring the intricacies of each component.\n",
    "\n",
    "We aim to provide a professional learning experience that equips students with the knowledge and skills necessary to train models effectively.\n",
    "\n",
    "Now, we will be creating a Convolutional Neural Network (CNN) model to perform the classification of hand-digit character recognition. This task involves identifying and categorizing handwritten digits (0-9) accurately. CNNs are particularly well-suited for image recognition tasks like this due to their ability to capture spatial features and hierarchies within images. Through this tutorial, we'll guide you through the process of building and training a CNN model to achieve accurate hand-digit recognition.\n",
    "\n",
    "<img src=\"../Lecture_Image_Files/lec_15/cnn.jpeg\" width=\"500\" />"
   ]
  },
  {
   "cell_type": "markdown",
   "id": "aa322222",
   "metadata": {},
   "source": [
    "## Training Pipeline:\n",
    "\n",
    "<img src=\"../Lecture_Image_Files/lec_15/training_pipeline.png\" width=\"1000\" />"
   ]
  },
  {
   "cell_type": "markdown",
   "id": "57da37e9",
   "metadata": {},
   "source": [
    "### Dataset Structure\n",
    "\n",
    "The dataset should be structured in a specific way. Below is the expected directory structure:\n",
    "\n",
    "```\n",
    "dataset_directory/\n",
    "├── dataset/\n",
    "│   ├── 0\n",
    "    │   ├── img_1.jpg\n",
    "    │   ├── img_3.jpg\n",
    "    │   └──...\n",
    "    ├── 1\n",
    "    │   ├── img_12.jpg\n",
    "    │   ├── img_12.jpg\n",
    "    │   └──...\n",
    "    └── 3\n",
    "        ├── img_14.jpg\n",
    "        ├── img_15.jpg\n",
    "        └──...\n",
    "        \n",
    "\n",
    "\n",
    "```\n",
    "\n",
    "- The main directory, which is `main_dir` contains the `dataset` folder.  \n",
    "- Each subdirectory of the `dataset` should represent a class (in this example, `0` and `1` etc). The names of these subdirectories are used as class names.\n",
    "- Inside each subdirectory, there should be image files belonging to that class. In this example, the `img_0.jpg` directory contains images of numbers ranging from `0-9`.\n"
   ]
  },
  {
   "cell_type": "markdown",
   "id": "e118b545",
   "metadata": {},
   "source": [
    "## Train, Test, and Validation Split in Machine Learning\n",
    "\n",
    "<img src=\"../Lecture_Image_Files/lec_15/train_test_split.png\"/>\n",
    "\n",
    "In machine learning and data analysis, the process of splitting a dataset into multiple subsets, usually referred to as \"train,\" \"validation,\" and \"test\" sets, is a fundamental practice. This separation serves several important purposes in the development and evaluation of predictive models. Let's break down each part and their significance:\n",
    "\n",
    "### Train Set\n",
    "The training set is the largest portion of the dataset and is used to train or teach the machine learning model. During training, the model learns the underlying patterns, relationships, and features present in the data. This involves adjusting its internal parameters (weights and biases) to minimize the difference between its predictions and the actual target values.\n",
    "\n",
    "### Validation Set\n",
    "The validation set is an additional subset of the dataset that serves as an intermediary step between training and testing. It is used to tune hyperparameters and assess the model's performance during training. Hyperparameters are settings that are not learned by the model during training but are set by the developer before training starts. The model's performance on the validation set helps guide the adjustment of these hyperparameters to improve the model's generalization to new data.\n",
    "\n",
    "### Test Set\n",
    "The test set is a smaller, separate portion of the dataset that the model has never seen during training. It is used to evaluate the model's performance on unseen data. After training and hyperparameter tuning, the model's predictive capabilities are tested on this independent test set. The test set helps provide an estimate of how well the model is likely to perform on new, unseen data.\n",
    "\n",
    "### Percentage Split Guidelines\n",
    "\n",
    "The percentages for splitting the dataset can vary, but here are common guidelines:\n",
    "\n",
    "- **Train Set:** Typically, around 60-80% of the data is allocated to the training set. This ensures that the model has enough data to learn from and capture underlying patterns effectively.\n",
    "\n",
    "- **Validation Set:** The validation set usually consists of around 10-20% of the data. This subset is used for hyperparameter tuning and early stopping decisions during training.\n",
    "\n",
    "- **Test Set:** The test set accounts for the remaining portion, roughly 10-20% of the data. It provides an independent evaluation of the model's performance on new, unseen data.\n",
    "\n",
    "In summary, the train-validation-test split is essential for developing accurate and reliable machine learning models. The appropriate percentage splits ensure that the model's performance is assessed on various data subsets, help detect and prevent overfitting, guide hyperparameter tuning, and support the selection of a model with good generalization capabilities.\n",
    "\n"
   ]
  },
  {
   "cell_type": "markdown",
   "id": "9e949a34",
   "metadata": {},
   "source": [
    "### First, install and we import the necessary modules from PyTorch, torchvision, PIL, tqdm, and sklearn."
   ]
  },
  {
   "cell_type": "code",
   "execution_count": 1,
   "id": "182baf95",
   "metadata": {},
   "outputs": [
    {
     "name": "stdout",
     "output_type": "stream",
     "text": [
      "Requirement already satisfied: numpy==1.23.1 in /home/mustafa/miniconda3/lib/python3.10/site-packages (from -r ../requirements.txt (line 1)) (1.23.1)\n",
      "Requirement already satisfied: torch==2.0.0 in /home/mustafa/.local/lib/python3.10/site-packages (from -r ../requirements.txt (line 2)) (2.0.0)\n",
      "Requirement already satisfied: torchvision==0.15.1 in /home/mustafa/miniconda3/lib/python3.10/site-packages (from -r ../requirements.txt (line 3)) (0.15.1)\n",
      "Requirement already satisfied: tqdm==4.66.1 in /home/mustafa/miniconda3/lib/python3.10/site-packages (from -r ../requirements.txt (line 4)) (4.66.1)\n",
      "Requirement already satisfied: scikit-learn==1.2.1 in /home/mustafa/miniconda3/lib/python3.10/site-packages (from -r ../requirements.txt (line 5)) (1.2.1)\n",
      "Requirement already satisfied: scipy==1.9.1 in /home/mustafa/miniconda3/lib/python3.10/site-packages (from -r ../requirements.txt (line 6)) (1.9.1)\n",
      "Requirement already satisfied: Pillow==9.4.0 in /home/mustafa/miniconda3/lib/python3.10/site-packages (from -r ../requirements.txt (line 7)) (9.4.0)\n",
      "Requirement already satisfied: filelock in /home/mustafa/miniconda3/lib/python3.10/site-packages (from torch==2.0.0->-r ../requirements.txt (line 2)) (3.9.0)\n",
      "Requirement already satisfied: typing-extensions in /home/mustafa/.local/lib/python3.10/site-packages (from torch==2.0.0->-r ../requirements.txt (line 2)) (4.5.0)\n",
      "Requirement already satisfied: sympy in /home/mustafa/.local/lib/python3.10/site-packages (from torch==2.0.0->-r ../requirements.txt (line 2)) (1.11.1)\n",
      "Requirement already satisfied: networkx in /home/mustafa/.local/lib/python3.10/site-packages (from torch==2.0.0->-r ../requirements.txt (line 2)) (3.0)\n",
      "Requirement already satisfied: jinja2 in /home/mustafa/.local/lib/python3.10/site-packages (from torch==2.0.0->-r ../requirements.txt (line 2)) (3.1.2)\n",
      "Requirement already satisfied: nvidia-cuda-nvrtc-cu11==11.7.99 in /home/mustafa/.local/lib/python3.10/site-packages (from torch==2.0.0->-r ../requirements.txt (line 2)) (11.7.99)\n",
      "Requirement already satisfied: nvidia-cuda-runtime-cu11==11.7.99 in /home/mustafa/.local/lib/python3.10/site-packages (from torch==2.0.0->-r ../requirements.txt (line 2)) (11.7.99)\n",
      "Requirement already satisfied: nvidia-cuda-cupti-cu11==11.7.101 in /home/mustafa/.local/lib/python3.10/site-packages (from torch==2.0.0->-r ../requirements.txt (line 2)) (11.7.101)\n",
      "Requirement already satisfied: nvidia-cudnn-cu11==8.5.0.96 in /home/mustafa/.local/lib/python3.10/site-packages (from torch==2.0.0->-r ../requirements.txt (line 2)) (8.5.0.96)\n",
      "Requirement already satisfied: nvidia-cublas-cu11==11.10.3.66 in /home/mustafa/.local/lib/python3.10/site-packages (from torch==2.0.0->-r ../requirements.txt (line 2)) (11.10.3.66)\n",
      "Requirement already satisfied: nvidia-cufft-cu11==10.9.0.58 in /home/mustafa/.local/lib/python3.10/site-packages (from torch==2.0.0->-r ../requirements.txt (line 2)) (10.9.0.58)\n",
      "Requirement already satisfied: nvidia-curand-cu11==10.2.10.91 in /home/mustafa/.local/lib/python3.10/site-packages (from torch==2.0.0->-r ../requirements.txt (line 2)) (10.2.10.91)\n",
      "Requirement already satisfied: nvidia-cusolver-cu11==11.4.0.1 in /home/mustafa/.local/lib/python3.10/site-packages (from torch==2.0.0->-r ../requirements.txt (line 2)) (11.4.0.1)\n",
      "Requirement already satisfied: nvidia-cusparse-cu11==11.7.4.91 in /home/mustafa/.local/lib/python3.10/site-packages (from torch==2.0.0->-r ../requirements.txt (line 2)) (11.7.4.91)\n",
      "Requirement already satisfied: nvidia-nccl-cu11==2.14.3 in /home/mustafa/.local/lib/python3.10/site-packages (from torch==2.0.0->-r ../requirements.txt (line 2)) (2.14.3)\n",
      "Requirement already satisfied: nvidia-nvtx-cu11==11.7.91 in /home/mustafa/.local/lib/python3.10/site-packages (from torch==2.0.0->-r ../requirements.txt (line 2)) (11.7.91)\n",
      "Requirement already satisfied: triton==2.0.0 in /home/mustafa/.local/lib/python3.10/site-packages (from torch==2.0.0->-r ../requirements.txt (line 2)) (2.0.0)\n",
      "Requirement already satisfied: requests in /home/mustafa/miniconda3/lib/python3.10/site-packages (from torchvision==0.15.1->-r ../requirements.txt (line 3)) (2.28.2)\n",
      "Requirement already satisfied: joblib>=1.1.1 in /home/mustafa/.local/lib/python3.10/site-packages (from scikit-learn==1.2.1->-r ../requirements.txt (line 5)) (1.2.0)\n",
      "Requirement already satisfied: threadpoolctl>=2.0.0 in /home/mustafa/.local/lib/python3.10/site-packages (from scikit-learn==1.2.1->-r ../requirements.txt (line 5)) (3.1.0)\n",
      "Requirement already satisfied: setuptools in /home/mustafa/miniconda3/lib/python3.10/site-packages (from nvidia-cublas-cu11==11.10.3.66->torch==2.0.0->-r ../requirements.txt (line 2)) (67.4.0)\n",
      "Requirement already satisfied: wheel in /home/mustafa/miniconda3/lib/python3.10/site-packages (from nvidia-cublas-cu11==11.10.3.66->torch==2.0.0->-r ../requirements.txt (line 2)) (0.38.4)\n",
      "Requirement already satisfied: cmake in /home/mustafa/.local/lib/python3.10/site-packages (from triton==2.0.0->torch==2.0.0->-r ../requirements.txt (line 2)) (3.26.1)\n",
      "Requirement already satisfied: lit in /home/mustafa/.local/lib/python3.10/site-packages (from triton==2.0.0->torch==2.0.0->-r ../requirements.txt (line 2)) (16.0.0)\n",
      "Requirement already satisfied: MarkupSafe>=2.0 in /home/mustafa/.local/lib/python3.10/site-packages (from jinja2->torch==2.0.0->-r ../requirements.txt (line 2)) (2.1.2)\n",
      "Requirement already satisfied: charset-normalizer<4,>=2 in /home/mustafa/.local/lib/python3.10/site-packages (from requests->torchvision==0.15.1->-r ../requirements.txt (line 3)) (3.1.0)\n",
      "Requirement already satisfied: idna<4,>=2.5 in /home/mustafa/miniconda3/lib/python3.10/site-packages (from requests->torchvision==0.15.1->-r ../requirements.txt (line 3)) (3.4)\n",
      "Requirement already satisfied: urllib3<1.27,>=1.21.1 in /home/mustafa/miniconda3/lib/python3.10/site-packages (from requests->torchvision==0.15.1->-r ../requirements.txt (line 3)) (1.26.15)\n",
      "Requirement already satisfied: certifi>=2017.4.17 in /home/mustafa/miniconda3/lib/python3.10/site-packages (from requests->torchvision==0.15.1->-r ../requirements.txt (line 3)) (2023.5.7)\n",
      "Requirement already satisfied: mpmath>=0.19 in /home/mustafa/.local/lib/python3.10/site-packages (from sympy->torch==2.0.0->-r ../requirements.txt (line 2)) (1.3.0)\n"
     ]
    }
   ],
   "source": [
    "!pip3 install -r ../requirements.txt"
   ]
  },
  {
   "cell_type": "code",
   "execution_count": 2,
   "id": "e5f9c8bb",
   "metadata": {},
   "outputs": [],
   "source": [
    "import os\n",
    "from PIL import Image\n",
    "import torch\n",
    "from torch.utils.data import Dataset, DataLoader\n",
    "import torch.nn.functional as F\n",
    "from torchvision import transforms\n",
    "import torch.nn as nn\n",
    "import torch.optim as optim\n",
    "from tqdm import tqdm\n",
    "from torch.utils.data.dataset import random_split\n",
    "import matplotlib.pyplot as plt\n",
    "from sklearn.metrics import accuracy_score\n",
    "import time"
   ]
  },
  {
   "cell_type": "markdown",
   "id": "beb551a3",
   "metadata": {},
   "source": [
    "### We define a custom Dataset class to load the MNIST data. This class takes in the root directory of the images and applies any necessary transformations."
   ]
  },
  {
   "cell_type": "code",
   "execution_count": 3,
   "id": "c9ad94d1",
   "metadata": {},
   "outputs": [],
   "source": [
    "class MNISTDataset(Dataset):\n",
    "    def __init__(self, root_dir, transform=None):\n",
    "        self.root_dir = root_dir\n",
    "        self.transform = transform\n",
    "        self.samples = []\n",
    "\n",
    "        for label in os.listdir(root_dir):\n",
    "            for img_file in os.listdir(os.path.join(root_dir, label)):\n",
    "                self.samples.append((os.path.join(root_dir, label, img_file), int(label)))\n",
    "\n",
    "    def __len__(self):\n",
    "        return len(self.samples)\n",
    "\n",
    "    def __getitem__(self, idx):\n",
    "        if torch.is_tensor(idx):\n",
    "            idx = idx.tolist()\n",
    "\n",
    "        img_path, label = self.samples[idx]\n",
    "        image = Image.open(img_path).convert('L')\n",
    "\n",
    "        if self.transform:\n",
    "            image = self.transform(image)\n",
    "\n",
    "        return image, label"
   ]
  },
  {
   "cell_type": "markdown",
   "id": "8497bf7b",
   "metadata": {},
   "source": [
    "### We apply necessary transformations to the images and load the dataset."
   ]
  },
  {
   "cell_type": "code",
   "execution_count": 4,
   "id": "60ad2751",
   "metadata": {},
   "outputs": [],
   "source": [
    "transform = transforms.Compose([transforms.Resize((28, 28)),\n",
    "                                transforms.ToTensor(),\n",
    "                                transforms.Normalize((0.5,), (0.5,))])\n",
    "\n",
    "dataset = MNISTDataset(root_dir='../dataset/', transform=transform)\n",
    "dataloader = DataLoader(dataset, batch_size=64, shuffle=True)"
   ]
  },
  {
   "cell_type": "markdown",
   "id": "29f59ca4",
   "metadata": {},
   "source": [
    "### We split our dataset into a training set and a testing set."
   ]
  },
  {
   "cell_type": "code",
   "execution_count": 5,
   "id": "1ff4bfaf",
   "metadata": {},
   "outputs": [],
   "source": [
    "# Define train, validation, and test sizes\n",
    "train_size = int(0.8 * len(dataset))\n",
    "val_size = (len(dataset) - train_size) // 2\n",
    "test_size = len(dataset) - train_size - val_size\n",
    "\n",
    "# Split the dataset\n",
    "train_dataset, val_dataset, test_dataset = random_split(dataset, [train_size, val_size, test_size])\n",
    "\n",
    "train_dataloader = DataLoader(train_dataset, batch_size=64, shuffle=True)\n",
    "test_dataloader = DataLoader(test_dataset, batch_size=64, shuffle=False)\n",
    "val_dataloader = DataLoader(val_dataset, batch_size=64, shuffle=False)"
   ]
  },
  {
   "cell_type": "markdown",
   "id": "356db4eb",
   "metadata": {},
   "source": [
    "### We define our CNN model."
   ]
  },
  {
   "cell_type": "code",
   "execution_count": 6,
   "id": "f8e63e58",
   "metadata": {},
   "outputs": [],
   "source": [
    "class CNN(nn.Module):\n",
    "    def __init__(self):\n",
    "        super(CNN, self).__init__()\n",
    "        self.conv1 = nn.Conv2d(1, 32, 3, 1)\n",
    "        self.conv2 = nn.Conv2d(32, 64, 3, 1)\n",
    "        self.dropout1 = nn.Dropout(0.25)\n",
    "        self.dropout2 = nn.Dropout(0.5)\n",
    "        self.fc1 = nn.Linear(9216, 128)\n",
    "        self.fc2 = nn.Linear(128, 10)\n",
    "\n",
    "    def forward(self, x):\n",
    "        x = self.conv1(x)\n",
    "        x = F.relu(x)\n",
    "        x = self.conv2(x)\n",
    "        x = F.relu(x)\n",
    "        x = F.max_pool2d(x, 2)\n",
    "        x = self.dropout1(x)\n",
    "        x = torch.flatten(x, 1)\n",
    "        x = self.fc1(x)\n",
    "        x = F.relu(x)\n",
    "        x = self.dropout2(x)\n",
    "        x = self.fc2(x)\n",
    "        output = F.log_softmax(x, dim=1)\n",
    "        return output"
   ]
  },
  {
   "cell_type": "markdown",
   "id": "c83b74aa",
   "metadata": {},
   "source": [
    "### We train our model for the specified number of epochs, storing the losses and accuracies for the training and testing phases. We also print these values for each epoch."
   ]
  },
  {
   "cell_type": "code",
   "execution_count": 7,
   "id": "eee52762",
   "metadata": {},
   "outputs": [
    {
     "data": {
      "text/plain": [
       "device(type='cpu')"
      ]
     },
     "execution_count": 7,
     "metadata": {},
     "output_type": "execute_result"
    }
   ],
   "source": [
    "device = torch.device(\"cpu\" if torch.cuda.is_available() else \"cpu\")\n",
    "device"
   ]
  },
  {
   "cell_type": "code",
   "execution_count": 8,
   "id": "ab9f7da1",
   "metadata": {},
   "outputs": [
    {
     "name": "stderr",
     "output_type": "stream",
     "text": [
      "100%|█████████████████████████████████████████| 525/525 [00:21<00:00, 24.11it/s]\n",
      "100%|███████████████████████████████████████████| 66/66 [00:01<00:00, 47.03it/s]\n"
     ]
    },
    {
     "name": "stdout",
     "output_type": "stream",
     "text": [
      "Epoch 1 / 5\n",
      "Train Loss: 0.311, Train Acc: 0.902\n",
      "Validation Loss: 0.071, Validation Acc: 0.979\n"
     ]
    },
    {
     "name": "stderr",
     "output_type": "stream",
     "text": [
      "100%|█████████████████████████████████████████| 525/525 [00:18<00:00, 27.96it/s]\n",
      "100%|███████████████████████████████████████████| 66/66 [00:01<00:00, 49.52it/s]\n"
     ]
    },
    {
     "name": "stdout",
     "output_type": "stream",
     "text": [
      "Epoch 2 / 5\n",
      "Train Loss: 0.116, Train Acc: 0.966\n",
      "Validation Loss: 0.056, Validation Acc: 0.983\n"
     ]
    },
    {
     "name": "stderr",
     "output_type": "stream",
     "text": [
      "100%|█████████████████████████████████████████| 525/525 [00:18<00:00, 28.54it/s]\n",
      "100%|███████████████████████████████████████████| 66/66 [00:01<00:00, 52.74it/s]\n"
     ]
    },
    {
     "name": "stdout",
     "output_type": "stream",
     "text": [
      "Epoch 3 / 5\n",
      "Train Loss: 0.086, Train Acc: 0.974\n",
      "Validation Loss: 0.052, Validation Acc: 0.984\n"
     ]
    },
    {
     "name": "stderr",
     "output_type": "stream",
     "text": [
      "100%|█████████████████████████████████████████| 525/525 [00:18<00:00, 28.05it/s]\n",
      "100%|███████████████████████████████████████████| 66/66 [00:01<00:00, 48.30it/s]\n"
     ]
    },
    {
     "name": "stdout",
     "output_type": "stream",
     "text": [
      "Epoch 4 / 5\n",
      "Train Loss: 0.072, Train Acc: 0.979\n",
      "Validation Loss: 0.044, Validation Acc: 0.986\n"
     ]
    },
    {
     "name": "stderr",
     "output_type": "stream",
     "text": [
      "100%|█████████████████████████████████████████| 525/525 [00:19<00:00, 27.32it/s]\n",
      "100%|███████████████████████████████████████████| 66/66 [00:01<00:00, 51.90it/s]"
     ]
    },
    {
     "name": "stdout",
     "output_type": "stream",
     "text": [
      "Epoch 5 / 5\n",
      "Train Loss: 0.058, Train Acc: 0.982\n",
      "Validation Loss: 0.047, Validation Acc: 0.984\n"
     ]
    },
    {
     "name": "stderr",
     "output_type": "stream",
     "text": [
      "\n"
     ]
    }
   ],
   "source": [
    "model = CNN().to(device)\n",
    "optimizer = optim.Adam(model.parameters(), lr=0.001)\n",
    "criterion = nn.CrossEntropyLoss()\n",
    "\n",
    "epochs = 5\n",
    "train_losses, val_losses, test_losses, train_accs, val_accs, test_accs = [], [], [], [], [], []\n",
    "output_file = \"exp/training_results.txt\"  # Change this to the desired file path\n",
    "\n",
    "with open(output_file, \"w\") as f:\n",
    "    for epoch in range(epochs):\n",
    "        model.train()  # Set model to training mode\n",
    "        train_loss, train_corrects, train_total = 0, 0, 0\n",
    "\n",
    "        for data in tqdm(train_dataloader, total=len(train_dataloader)):\n",
    "            images, labels = data\n",
    "            images, labels = images.to(device), labels.to(device)\n",
    "            optimizer.zero_grad()\n",
    "            outputs = model(images)\n",
    "            _, preds = torch.max(outputs, 1)\n",
    "            loss = criterion(outputs, labels)\n",
    "            loss.backward()\n",
    "            optimizer.step()\n",
    "            train_loss += loss.item()\n",
    "            train_corrects += (preds == labels).sum().item()\n",
    "            train_total += labels.size(0)\n",
    "\n",
    "        train_losses.append(train_loss / len(train_dataloader))\n",
    "        train_accs.append(train_corrects / train_total)\n",
    "\n",
    "        model.eval()  # Set model to evaluation mode\n",
    "        val_loss, val_corrects, val_total = 0, 0, 0\n",
    "\n",
    "        with torch.no_grad():\n",
    "            for data in tqdm(val_dataloader, total=len(val_dataloader)):\n",
    "                images, labels = data\n",
    "                images, labels = images.to(device), labels.to(device)\n",
    "                outputs = model(images)\n",
    "                _, preds = torch.max(outputs, 1)\n",
    "                loss = criterion(outputs, labels)\n",
    "                val_loss += loss.item()\n",
    "                val_corrects += (preds == labels).sum().item()\n",
    "                val_total += labels.size(0)\n",
    "\n",
    "        val_losses.append(val_loss / len(val_dataloader))\n",
    "        val_accs.append(val_corrects / val_total)\n",
    "\n",
    "        print(f\"Epoch {epoch + 1} / {epochs}\")\n",
    "        print(f\"Train Loss: {train_losses[-1]:.3f}, Train Acc: {train_accs[-1]:.3f}\")\n",
    "        print(f\"Validation Loss: {val_losses[-1]:.3f}, Validation Acc: {val_accs[-1]:.3f}\")\n",
    "    \n",
    "        # Write results to the output file\n",
    "        f.write(f\"Epoch {epoch + 1} / {epochs}\\n\")\n",
    "        f.write(f\"Train Loss: {train_losses[-1]:.3f}, Train Acc: {train_accs[-1]:.3f}\\n\")\n",
    "        f.write(f\"Validation Loss: {val_losses[-1]:.3f}, Validation Acc: {val_accs[-1]:.3f}\\n\")\n"
   ]
  },
  {
   "cell_type": "markdown",
   "id": "6549dd29",
   "metadata": {},
   "source": [
    "### We plot the losses and accuracies for the training and testing phases."
   ]
  },
  {
   "cell_type": "code",
   "execution_count": 9,
   "id": "a43efd78",
   "metadata": {
    "scrolled": true
   },
   "outputs": [
    {
     "data": {
      "image/png": "[encoded data removed]",
      "text/plain": [
       "<Figure size 1200x400 with 2 Axes>"
      ]
     },
     "metadata": {},
     "output_type": "display_data"
    }
   ],
   "source": [
    "# Plotting\n",
    "plt.figure(figsize=(12, 4))\n",
    "\n",
    "# Plot losses\n",
    "plt.subplot(1, 2, 1)\n",
    "plt.plot(train_losses, label='Training Loss')\n",
    "plt.plot(val_losses, label='Validation Loss')\n",
    "plt.xlabel('Epoch')\n",
    "plt.ylabel('Loss')\n",
    "plt.legend()\n",
    "plt.grid()\n",
    "\n",
    "# Plot accuracies\n",
    "plt.subplot(1, 2, 2)\n",
    "plt.plot(train_accs, label='Training Accuracy')\n",
    "plt.plot(val_accs, label='Validation Accuracy')\n",
    "plt.xlabel('Epoch')\n",
    "plt.ylabel('Accuracy')\n",
    "plt.legend()\n",
    "plt.grid()\n",
    "\n",
    "plt.tight_layout()\n",
    "plt.show()"
   ]
  },
  {
   "cell_type": "code",
   "execution_count": 10,
   "id": "b4189cd2",
   "metadata": {},
   "outputs": [
    {
     "name": "stderr",
     "output_type": "stream",
     "text": [
      "100%|███████████████████████████████████████████| 66/66 [00:01<00:00, 51.56it/s]"
     ]
    },
    {
     "name": "stdout",
     "output_type": "stream",
     "text": [
      "Test Accuracy: 0.986\n"
     ]
    },
    {
     "name": "stderr",
     "output_type": "stream",
     "text": [
      "\n"
     ]
    }
   ],
   "source": [
    "# Evaluate test accuracy after training completion\n",
    "model.eval()\n",
    "test_corrects, test_total = 0, 0\n",
    "with torch.no_grad():\n",
    "    for data in tqdm(test_dataloader, total=len(test_dataloader)):\n",
    "        images, labels = data\n",
    "        images, labels = images.to(device), labels.to(device)\n",
    "        outputs = model(images)\n",
    "        _, preds = torch.max(outputs, 1)\n",
    "        test_corrects += (preds == labels).sum().item()\n",
    "        test_total += labels.size(0)\n",
    "test_acc = test_corrects / test_total\n",
    "print(f\"Test Accuracy: {test_acc:.3f}\")\n",
    "\n",
    "# Write test accuracy result to the output file\n",
    "with open(output_file, \"a\") as f:\n",
    "    f.write(f\"Test Accuracy: {test_acc:.3f}\\n\")"
   ]
  },
  {
   "cell_type": "markdown",
   "id": "022aa946",
   "metadata": {},
   "source": [
    "### Result file:\n",
    "After completing the training and testing process, please navigate to the **'notebooks/exp'** directory. Within this directory, you will discover a text file containing recorded accuracies for training, validation, and testing."
   ]
  },
  {
   "cell_type": "markdown",
   "id": "acc7dc1a",
   "metadata": {},
   "source": [
    "### Perform inference on a single image\n",
    "Finally, we define a function that takes an image path, makes a prediction for this image, and displays the image along with its predicted class. Note that you need to replace 'path_to_your_image.jpg' with the actual path to your image."
   ]
  },
  {
   "cell_type": "code",
   "execution_count": 11,
   "id": "c5f1c3a9",
   "metadata": {},
   "outputs": [
    {
     "data": {
      "image/png": "[encoded data removed]",
      "text/plain": [
       "<Figure size 640x480 with 1 Axes>"
      ]
     },
     "metadata": {},
     "output_type": "display_data"
    }
   ],
   "source": [
    "from PIL import Image\n",
    "import matplotlib.pyplot as plt\n",
    "\n",
    "def predict(image_path):\n",
    "    model.eval()\n",
    "    image = Image.open(image_path).convert('L')\n",
    "    image = transform(image)\n",
    "    image = image.unsqueeze(0)  # add batch dimension\n",
    "    output = model(image.to(device))\n",
    "    _, pred = torch.max(output.data, 1)\n",
    "    return pred.item()\n",
    "\n",
    "image_path = '../inference_images/1.jpg'\n",
    "prediction = predict(image_path)\n",
    "\n",
    "# Display the image and prediction\n",
    "im = Image.open(image_path)\n",
    "plt.imshow(im, cmap='gray')\n",
    "plt.title(f'Predicted class: {prediction}')\n",
    "plt.show()"
   ]
  },
  {
   "cell_type": "markdown",
   "id": "8245603a",
   "metadata": {},
   "source": [
    "## Comparison: CPU vs. GPU in PyTorch\n",
    "\n",
    "1. **Architecture:**\n",
    "   - CPU: A CPU consists of a few cores (typically 2 to 64) that are optimized for handling sequential tasks and general-purpose computations. Each core is powerful and capable of executing complex instructions.\n",
    "   - GPU: A GPU comprises thousands of smaller cores designed to handle parallel tasks simultaneously. They are specialized for performing mathematical operations required for graphics rendering and can be utilized for general-purpose computation, such as deep learning tasks.\n",
    "\n",
    "2. **Parallelism:**\n",
    "   - CPU: While modern CPUs support multi-core architectures, the number of cores is relatively small compared to GPUs. CPUs are more suited for tasks that require sequential processing and fast single-core performance.\n",
    "   - GPU: GPUs excel at parallel processing due to their massive number of cores. This makes them highly efficient for deep learning tasks that involve heavy matrix computations, like neural network training and inference.\n",
    "\n",
    "3. **Performance:**\n",
    "   - CPU: CPUs are great for tasks that require fast single-core performance or tasks with limited parallelism. They are useful for data preprocessing, small-scale model training, and inference tasks.\n",
    "   - GPU: GPUs shine in parallelizable tasks, such as training large neural networks and processing vast amounts of data simultaneously. For deep learning workloads, GPUs often offer significant speed-ups compared to CPUs.\n",
    "\n",
    "4. **Memory:**\n",
    "   - CPU: CPUs have relatively smaller memory capacities compared to GPUs. They are designed to handle various tasks that typically don't require extensive memory.\n",
    "   - GPU: Modern GPUs come with larger memory capacities that are essential for processing huge datasets involved in deep learning tasks.\n",
    "\n",
    "5. **Ease of Use:**\n",
    "   - CPU: CPUs are the default processors of any computer, and most programming tasks can be easily executed on them. PyTorch automatically uses the CPU when a GPU is not available or explicitly specified.\n",
    "   - GPU: Using GPUs for computation in PyTorch requires a bit more configuration and specialized libraries like CUDA. However, frameworks like PyTorch provide an easy-to-use interface to move tensors between CPU and GPU.\n",
    "\n",
    "6. **Cost:**\n",
    "   - CPU: CPUs are typically more cost-effective and come integrated with computers and servers. They are generally included in the base price of the machine.\n",
    "   - GPU: GPUs can be expensive, especially high-performance ones. However, they offer significant speed-ups for deep learning tasks, making them a worthwhile investment for researchers and developers working with large models and datasets.\n",
    "\n",
    "In summary, CPUs are suitable for general-purpose tasks and small-scale deep learning workloads, while GPUs are indispensable for training and running large neural networks efficiently. The choice between CPU and GPU in PyTorch depends on the size of your model, the complexity of the computation, and the scale of your data. For most deep learning tasks, a GPU will significantly accelerate the training process and is the preferred choice for researchers and practitioners.\n"
   ]
  },
  {
   "cell_type": "markdown",
   "id": "61821458",
   "metadata": {},
   "source": [
    "### Code to compare CPU vs GPU Performance"
   ]
  },
  {
   "cell_type": "code",
   "execution_count": 12,
   "id": "13f30423",
   "metadata": {},
   "outputs": [
    {
     "data": {
      "text/plain": [
       "device(type='cuda')"
      ]
     },
     "execution_count": 12,
     "metadata": {},
     "output_type": "execute_result"
    }
   ],
   "source": [
    "## If you only have a CPU on your machine, you can go ahead and run this code.\n",
    "##  The model will automatically execute using the CPU. if GPU is available then the model will run on GPU\n",
    "\n",
    "device = torch.device(\"cuda\" if torch.cuda.is_available() else \"cpu\")\n",
    "\n",
    "\n",
    "## If your machine is equipped with a GPU and you wish to run the model on the CPU,\n",
    "## simply uncomment the line below. This will configure the model to be trained using the CPU.\n",
    "\n",
    "# device = \"cpu\"\n",
    "\n",
    "device"
   ]
  },
  {
   "cell_type": "code",
   "execution_count": 13,
   "id": "70f4c11c",
   "metadata": {},
   "outputs": [
    {
     "name": "stderr",
     "output_type": "stream",
     "text": [
      "100%|█████████████████████████████████████████| 525/525 [00:08<00:00, 58.38it/s]\n"
     ]
    },
    {
     "name": "stdout",
     "output_type": "stream",
     "text": [
      "Epoch 1 / 5\n",
      "Train Loss: 0.279, Train Acc: 0.916\n",
      "Test Loss: 0.132, Test Acc: 0.960\n",
      "Epoch Time: 9.85 seconds\n",
      "\n"
     ]
    },
    {
     "name": "stderr",
     "output_type": "stream",
     "text": [
      "100%|█████████████████████████████████████████| 525/525 [00:07<00:00, 66.82it/s]\n"
     ]
    },
    {
     "name": "stdout",
     "output_type": "stream",
     "text": [
      "Epoch 2 / 5\n",
      "Train Loss: 0.106, Train Acc: 0.968\n",
      "Test Loss: 0.094, Test Acc: 0.972\n",
      "Epoch Time: 8.73 seconds\n",
      "\n"
     ]
    },
    {
     "name": "stderr",
     "output_type": "stream",
     "text": [
      "100%|█████████████████████████████████████████| 525/525 [00:07<00:00, 65.75it/s]\n"
     ]
    },
    {
     "name": "stdout",
     "output_type": "stream",
     "text": [
      "Epoch 3 / 5\n",
      "Train Loss: 0.075, Train Acc: 0.977\n",
      "Test Loss: 0.095, Test Acc: 0.973\n",
      "Epoch Time: 8.87 seconds\n",
      "\n"
     ]
    },
    {
     "name": "stderr",
     "output_type": "stream",
     "text": [
      "100%|█████████████████████████████████████████| 525/525 [00:08<00:00, 65.34it/s]\n"
     ]
    },
    {
     "name": "stdout",
     "output_type": "stream",
     "text": [
      "Epoch 4 / 5\n",
      "Train Loss: 0.062, Train Acc: 0.980\n",
      "Test Loss: 0.093, Test Acc: 0.977\n",
      "Epoch Time: 8.92 seconds\n",
      "\n"
     ]
    },
    {
     "name": "stderr",
     "output_type": "stream",
     "text": [
      "100%|█████████████████████████████████████████| 525/525 [00:07<00:00, 67.31it/s]\n"
     ]
    },
    {
     "name": "stdout",
     "output_type": "stream",
     "text": [
      "Epoch 5 / 5\n",
      "Train Loss: 0.052, Train Acc: 0.984\n",
      "Test Loss: 0.088, Test Acc: 0.975\n",
      "Epoch Time: 8.65 seconds\n",
      "\n",
      "Average Training Time on GPU: 9.00 seconds\n"
     ]
    }
   ],
   "source": [
    "model = CNN().to(device)\n",
    "optimizer = optim.Adam(model.parameters(), lr=0.001)\n",
    "criterion = nn.CrossEntropyLoss()\n",
    "\n",
    "epochs = 5\n",
    "train_losses, test_losses, train_accs, test_accs = [], [], [], []\n",
    "\n",
    "# Timing measurement lists for CPU and GPU\n",
    "cpu_times, gpu_times = [], []\n",
    "\n",
    "for epoch in range(epochs):\n",
    "    train_loss, train_corrects, train_total = 0, 0, 0\n",
    "    test_loss, test_corrects, test_total = 0, 0, 0\n",
    "\n",
    "    # Start the timer\n",
    "    start_time = time.time()\n",
    "\n",
    "    # Training\n",
    "    for i, data in tqdm(enumerate(train_dataloader), total=len(train_dataloader)):\n",
    "        inputs, labels = data\n",
    "        inputs, labels = inputs.to(device), labels.to(device)  # Move data to the appropriate device\n",
    "        optimizer.zero_grad()\n",
    "        outputs = model(inputs)\n",
    "        _, preds = torch.max(outputs, 1)\n",
    "        loss = criterion(outputs, labels)\n",
    "        loss.backward()\n",
    "        optimizer.step()\n",
    "        train_loss += loss.item()\n",
    "        train_corrects += (preds == labels).sum().item()\n",
    "        train_total += labels.size(0)\n",
    "\n",
    "    # Evaluation\n",
    "    with torch.no_grad():\n",
    "        for data in test_dataloader:\n",
    "            images, labels = data\n",
    "            images, labels = images.to(device), labels.to(device)  # Move data to the appropriate device\n",
    "            outputs = model(images)\n",
    "            _, preds = torch.max(outputs.data, 1)\n",
    "            loss = criterion(outputs, labels)\n",
    "            test_loss += loss.item()\n",
    "            test_corrects += (preds == labels).sum().item()\n",
    "            test_total += labels.size(0)\n",
    "\n",
    "    train_losses.append(train_loss / len(train_dataloader))\n",
    "    test_losses.append(test_loss / len(test_dataloader))\n",
    "    train_accs.append(train_corrects / train_total)\n",
    "    test_accs.append(test_corrects / test_total)\n",
    "\n",
    "    # End the timer\n",
    "    end_time = time.time()\n",
    "\n",
    "    epoch_time = end_time - start_time\n",
    "\n",
    "    # Record the time taken for the current epoch\n",
    "    if device.type == 'cuda':\n",
    "        gpu_times.append(epoch_time)\n",
    "    else:\n",
    "        cpu_times.append(epoch_time)\n",
    "\n",
    "    print(f\"Epoch {epoch + 1} / {epochs}\")\n",
    "    print(f\"Train Loss: {train_losses[-1]:.3f}, Train Acc: {train_accs[-1]:.3f}\")\n",
    "    print(f\"Test Loss: {test_losses[-1]:.3f}, Test Acc: {test_accs[-1]:.3f}\")\n",
    "    print(f\"Epoch Time: {epoch_time:.2f} seconds\")\n",
    "    print()\n",
    "\n",
    "# Calculate and print the average training time for CPU and GPU\n",
    "if len(cpu_times) > 0:\n",
    "    avg_cpu_time = sum(cpu_times) / len(cpu_times)\n",
    "    print(f\"Average Training Time on CPU: {avg_cpu_time:.2f} seconds\")\n",
    "\n",
    "if len(gpu_times) > 0:\n",
    "    avg_gpu_time = sum(gpu_times) / len(gpu_times)\n",
    "    print(f\"Average Training Time on GPU: {avg_gpu_time:.2f} seconds\")"
   ]
  },
  {
   "cell_type": "markdown",
   "id": "615a0202",
   "metadata": {},
   "source": [
    "### Why pytorch?"
   ]
  },
  {
   "cell_type": "markdown",
   "id": "94f740e7",
   "metadata": {},
   "source": [
    "There are several reasons why PyTorch is a popular choice for deep learning over other libraries:\n",
    "\n",
    "- **Dynamic Computational Graphs** : PyTorch uses a dynamic computational graph, which allows for more flexibility during the model development process. With dynamic graphs, you can define and modify the graph on the go, making it easier to debug and experiment with different architectures. This is particularly beneficial when working with complex models that have varying input sizes or architectures that change dynamically during training.\n",
    "\n",
    "- **Pythonic and Intuitive Interface**: PyTorch is built using Python, and it provides a clean and intuitive API that is easy to understand and use. Its syntax is similar to numpy, which makes it more familiar to many researchers and developers. This simplicity and ease of use contribute to faster prototyping and experimentation.\n",
    "\n",
    "- **Strong Community and Active Development**: PyTorch has a vibrant and rapidly growing community. It has gained popularity among researchers and developers, leading to a rich ecosystem of libraries, tutorials, and resources. The community actively contributes to the development and improvement of PyTorch, ensuring that it stays up-to-date with the latest advancements in deep learning.\n",
    "\n",
    "- **Excellent GPU Support**: PyTorch provides seamless integration with GPUs, allowing you to leverage their computational power to accelerate training and inference. It offers extensive GPU support, including automatic differentiation and optimized GPU operations. This makes it suitable for training large-scale deep learning models on parallel hardware.\n",
    "\n",
    "- **Extensive Research-Friendly Features**: PyTorch is widely used in the research community due to its research-friendly features. It offers flexible and efficient tools for implementing novel ideas and exploring new research directions. PyTorch also provides support for distributed training, model serialization, and deployment to production environments, making it suitable for both research and pro"
   ]
  },
  {
   "cell_type": "code",
   "execution_count": null,
   "id": "1af9dab7",
   "metadata": {},
   "outputs": [],
   "source": []
  }
 ],
 "metadata": {
  "kernelspec": {
   "display_name": "edge",
   "language": "python",
   "name": "edge"
  },
  "language_info": {
   "codemirror_mode": {
    "name": "ipython",
    "version": 3
   },
   "file_extension": ".py",
   "mimetype": "text/x-python",
   "name": "python",
   "nbconvert_exporter": "python",
   "pygments_lexer": "ipython3",
   "version": "3.10.9"
  }
 },
 "nbformat": 4,
 "nbformat_minor": 5
}
